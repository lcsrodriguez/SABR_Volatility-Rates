{
 "cells": [
  {
   "cell_type": "markdown",
   "id": "10f4b844",
   "metadata": {},
   "source": [
    "# Practical - Interest Rates Modeling\n",
    "\n",
    "\n",
    "**Group composition**:\n",
    "- Amal BACHA\n",
    "- Lucas RODRIGUEZ\n",
    "\n",
    "**Deadline**: Wednesday, November 23 2022"
   ]
  },
  {
   "cell_type": "code",
   "execution_count": 4,
   "id": "584d4c2e",
   "metadata": {
    "ExecuteTime": {
     "end_time": "2022-11-18T01:03:14.904602Z",
     "start_time": "2022-11-18T01:03:14.901267Z"
    }
   },
   "outputs": [],
   "source": [
    "# Importing necessary libraries\n",
    "import xlrd\n",
    "import math\n",
    "import numpy\n",
    "from scipy.optimize import minimize"
   ]
  },
  {
   "cell_type": "markdown",
   "id": "88c7dd99",
   "metadata": {},
   "source": [
    "## Function definitions"
   ]
  },
  {
   "cell_type": "code",
   "execution_count": 5,
   "id": "89292293",
   "metadata": {
    "ExecuteTime": {
     "end_time": "2022-11-18T01:03:33.462680Z",
     "start_time": "2022-11-18T01:03:33.448073Z"
    }
   },
   "outputs": [
    {
     "ename": "SyntaxError",
     "evalue": "Missing parentheses in call to 'print'. Did you mean print(...)? (3154852077.py, line 23)",
     "output_type": "error",
     "traceback": [
      "\u001b[0;36m  Input \u001b[0;32mIn [5]\u001b[0;36m\u001b[0m\n\u001b[0;31m    print round(VOL,4) ,  '\\t' ,\u001b[0m\n\u001b[0m    ^\u001b[0m\n\u001b[0;31mSyntaxError\u001b[0m\u001b[0;31m:\u001b[0m Missing parentheses in call to 'print'. Did you mean print(...)?\n"
     ]
    }
   ],
   "source": [
    "def SABR(alpha,beta,rho,nu,F,K,time,MKT): # all variables are scalars\n",
    "\n",
    "    if K <= 0:   # negative rates' problem, need to shift the smile\n",
    "        VOL = 0\n",
    "        diff = 0\n",
    "    elif F == K: # ATM formula\n",
    "        V = (F*K)**((1-beta)/2.)\n",
    "        logFK = math.log(F/K)\n",
    "        A = 1 + ( ((1-beta)**2*alpha**2)/(24.*(V**2)) + (alpha*beta*nu*rho)/(4.*V) + ((nu**2)*(2-3*(rho**2))/24.) ) * time\n",
    "        B = 1 + (1/24.)*(((1-beta)*logFK)**2) + (1/1920.)*(((1-beta)*logFK)**4)\n",
    "        VOL = (alpha/V)*A\n",
    "        diff = VOL - MKT\n",
    "    elif F != K: # not-ATM formula\n",
    "        V = (F*K)**((1-beta)/2.)\n",
    "        logFK = math.log(F/K)\n",
    "        z = (nu/alpha)*V*logFK\n",
    "        x = math.log( ( math.sqrt(1-2*rho*z+z**2) + z - rho ) / (1-rho) )\n",
    "        A = 1 + ( ((1-beta)**2*alpha**2)/(24.*(V**2)) + (alpha*beta*nu*rho)/(4.*V) + ((nu**2)*(2-3*(rho**2))/24.) ) * time\n",
    "        B = 1 + (1/24.)*(((1-beta)*logFK)**2) + (1/1920.)*(((1-beta)*logFK)**4)\n",
    "        VOL = (nu*logFK*A)/(x*B)\n",
    "        diff = VOL - MKT\n",
    "\n",
    "    print round(VOL,4) ,  '\\t' ,\n",
    "    outvol.write('%r;' %round(VOL,4) )\n",
    "    if MKT==0:\n",
    "        diff = 0\n",
    "        vol_diff.write('%s;' %'No market data')\n",
    "    else:\n",
    "        vol_diff.write('%r;' %round(diff,4) )"
   ]
  },
  {
   "cell_type": "code",
   "execution_count": 6,
   "id": "e562aaf4",
   "metadata": {
    "ExecuteTime": {
     "end_time": "2022-11-18T01:03:41.790733Z",
     "start_time": "2022-11-18T01:03:41.784319Z"
    }
   },
   "outputs": [
    {
     "ename": "SyntaxError",
     "evalue": "Missing parentheses in call to 'print'. Did you mean print(...)? (4145528685.py, line 3)",
     "output_type": "error",
     "traceback": [
      "\u001b[0;36m  Input \u001b[0;32mIn [6]\u001b[0;36m\u001b[0m\n\u001b[0;31m    print label_ten[i] , '\\t' , label_exp[i] , '\\t' ,\u001b[0m\n\u001b[0m    ^\u001b[0m\n\u001b[0;31mSyntaxError\u001b[0m\u001b[0;31m:\u001b[0m Missing parentheses in call to 'print'. Did you mean print(...)?\n"
     ]
    }
   ],
   "source": [
    "def smile(alpha,beta,rho,nu,F,K,time,MKT,i): # F, time and the parameters are scalars, K and MKT are vectors, i is the index for tenor/expiry label\n",
    "\n",
    "    print label_ten[i] , '\\t' , label_exp[i] , '\\t' ,\n",
    "    outvol.write('%s;%s;' %(label_ten[i],label_exp[i]))\n",
    "    vol_diff.write('%s;%s;' %(label_ten[i],label_exp[i]))\n",
    "    parameters.write('%s;%s;' %(label_ten[i],label_exp[i]))\n",
    "\n",
    "    for j in range(len(K)):\n",
    "        if K[0] <= 0:\n",
    "            shift(F,K)\n",
    "        SABR(alpha,beta,rho,nu,F,K[j],time,MKT[j])\n",
    "\n",
    "    print ' '\n",
    "    outvol.write('\\n')\n",
    "    vol_diff.write('\\n')\n",
    "    parameters.write('%f;%f;%f;%f;' %(alpha ,beta ,rho ,nu))\n",
    "    parameters.write('\\n')"
   ]
  },
  {
   "cell_type": "code",
   "execution_count": 7,
   "id": "57f2da55",
   "metadata": {
    "ExecuteTime": {
     "end_time": "2022-11-18T01:03:48.696819Z",
     "start_time": "2022-11-18T01:03:48.686111Z"
    }
   },
   "outputs": [
    {
     "ename": "SyntaxError",
     "evalue": "Missing parentheses in call to 'print'. Did you mean print(...)? (1935709009.py, line 3)",
     "output_type": "error",
     "traceback": [
      "\u001b[0;36m  Input \u001b[0;32mIn [7]\u001b[0;36m\u001b[0m\n\u001b[0;31m    print ' '\u001b[0m\n\u001b[0m    ^\u001b[0m\n\u001b[0;31mSyntaxError\u001b[0m\u001b[0;31m:\u001b[0m Missing parentheses in call to 'print'. Did you mean print(...)?\n"
     ]
    }
   ],
   "source": [
    "def SABR_vol_matrix(alpha,beta,rho,nu,F,K,time,MKT): # F, time and the parameters are vectors, K and MKT are matrices\n",
    "\n",
    "    print ' '\n",
    "    print (2+((num_strikes-1)/2))*'       '+'SABR VOLATILITIES'\n",
    "    print '  ' , '\\t' , 'strikes:' , \n",
    "    for i in range(num_strikes):\n",
    "        print label_strikes[i] , '\\t' ,\n",
    "    print ' '\n",
    "    outvol.write('%s;' %'SABR VOLATILITIES')\n",
    "    outvol.write('\\n')\n",
    "    vol_diff.write('%s;' %'VOLATILITY DIFFERENCES')\n",
    "    vol_diff.write('\\n')\n",
    "    parameters.write('%s;' %'PARAMETERS')\n",
    "    parameters.write('\\n')\n",
    "    outvol.write('%s;%s;' %(' ','strikes:'))\n",
    "    vol_diff.write('%s;%s;' %(' ','strikes:'))\n",
    "    for j in range(len(strike_spreads)):\n",
    "        outvol.write('%s;' %label_strikes[j])\n",
    "        vol_diff.write('%s;' %label_strikes[j])\n",
    "    outvol.write('\\n')\n",
    "    vol_diff.write('\\n')\n",
    "    print 'tenor' , '\\t' ,   'expiry'\n",
    "    parameters.write('%s;%s;%s;%s;%s;%s' %('tenor','expiry','alpha','beta','rho','nu'))\n",
    "    parameters.write('\\n')\n",
    "\n",
    "    for i in range(len(F)):\n",
    "        smile(alpha[i],beta[i],rho[i],nu[i],F[i],K[i],time[i],MKT[i],i)"
   ]
  },
  {
   "cell_type": "code",
   "execution_count": 8,
   "id": "5b88ddc5",
   "metadata": {
    "ExecuteTime": {
     "end_time": "2022-11-18T01:03:53.870330Z",
     "start_time": "2022-11-18T01:03:53.864649Z"
    }
   },
   "outputs": [],
   "source": [
    "def shift(F,K):\n",
    "    shift = 0.001 - K[0]\n",
    "    for j in range(len(K)):\n",
    "        K[j] = K[j] + shift\n",
    "        F = F + shift   "
   ]
  },
  {
   "cell_type": "code",
   "execution_count": 9,
   "id": "6aa65e84",
   "metadata": {
    "ExecuteTime": {
     "end_time": "2022-11-18T01:04:00.594434Z",
     "start_time": "2022-11-18T01:04:00.581083Z"
    }
   },
   "outputs": [],
   "source": [
    "def objfunc(par,F,K,time,MKT):\n",
    "    sum_sq_diff = 0\n",
    "    if K[0]<=0:\n",
    "        shift(F,K)\n",
    "    for j in range(len(K)):\n",
    "        if MKT[j] == 0:   \n",
    "            diff = 0       \n",
    "        elif F == K[j]: \n",
    "            V = (F*K[j])**((1-par[1])/2.)\n",
    "            logFK = math.log(F/K[j])\n",
    "            A = 1 + ( ((1-par[1])**2*par[0]**2)/(24.*(V**2)) + (par[0]*par[1]*par[3]*par[2])/(4.*V) + ((par[3]**2)*(2-3*(par[2]**2))/24.) ) * time\n",
    "            B = 1 + (1/24.)*(((1-par[1])*logFK)**2) + (1/1920.)*(((1-par[1])*logFK)**4)\n",
    "            VOL = (par[0]/V)*A\n",
    "            diff = VOL - MKT[j]\n",
    "        elif F != K[j]: \n",
    "            V = (F*K[j])**((1-par[1])/2.)\n",
    "            logFK = math.log(F/K[j])\n",
    "            z = (par[3]/par[0])*V*logFK\n",
    "            x = math.log( ( math.sqrt(1-2*par[2]*z+z**2) + z - par[2] ) / (1-par[2]) )\n",
    "            A = 1 + ( ((1-par[1])**2*par[0]**2)/(24.*(V**2)) + (par[0]*par[1]*par[3]*par[2])/(4.*V) + ((par[3]**2)*(2-3*(par[2]**2))/24.) ) * time\n",
    "            B = 1 + (1/24.)*(((1-par[1])*logFK)**2) + (1/1920.)*(((1-par[1])*logFK)**4)\n",
    "            VOL = (par[3]*logFK*A)/(x*B)\n",
    "            diff = VOL - MKT[j]  \n",
    "        sum_sq_diff = sum_sq_diff + diff**2  \n",
    "        obj = math.sqrt(sum_sq_diff)\n",
    "    return obj"
   ]
  },
  {
   "cell_type": "code",
   "execution_count": 10,
   "id": "bd0a7681",
   "metadata": {
    "ExecuteTime": {
     "end_time": "2022-11-18T01:04:06.148080Z",
     "start_time": "2022-11-18T01:04:06.140809Z"
    }
   },
   "outputs": [],
   "source": [
    "def calibration(starting_par,F,K,time,MKT):\n",
    "    for i in range(len(F)):\n",
    "        x0 = starting_par\n",
    "        bnds = ( (0.001,None) , (0,1) , (-0.999,0.999) , (0.001,None)  )\n",
    "        res = minimize(objfunc, x0 , (F[i],K[i],time[i],MKT[i]) ,bounds = bnds, method='SLSQP') # for a constrained minimization of multivariate scalar functions\n",
    "        alpha[i] = res.x[0]\n",
    "        beta[i] = res.x[1]\n",
    "        rho[i] = res.x[2]\n",
    "        nu[i] = res.x[3]\n"
   ]
  },
  {
   "cell_type": "markdown",
   "id": "9aea721d",
   "metadata": {},
   "source": [
    "## I/O (Inputs & Outputs) handling"
   ]
  },
  {
   "cell_type": "code",
   "execution_count": 11,
   "id": "e06305af",
   "metadata": {
    "ExecuteTime": {
     "end_time": "2022-11-18T01:04:44.158462Z",
     "start_time": "2022-11-18T01:04:44.151096Z"
    }
   },
   "outputs": [
    {
     "ename": "SyntaxError",
     "evalue": "Missing parentheses in call to 'print'. Did you mean print(...)? (1960056733.py, line 10)",
     "output_type": "error",
     "traceback": [
      "\u001b[0;36m  Input \u001b[0;32mIn [11]\u001b[0;36m\u001b[0m\n\u001b[0;31m    print 'Input file is not in the directory!'\u001b[0m\n\u001b[0m    ^\u001b[0m\n\u001b[0;31mSyntaxError\u001b[0m\u001b[0;31m:\u001b[0m Missing parentheses in call to 'print'. Did you mean print(...)?\n"
     ]
    }
   ],
   "source": [
    "outvol = open('outvol.csv', 'w')             # file output of volatilities\n",
    "vol_diff = open('vol differences.csv', 'w')  # file output differences between SABR and Market volatilities\n",
    "parameters = open('parameters.csv', 'w')     # file output parameters\n",
    "\n",
    "\n",
    "while True:\n",
    "    try:\n",
    "        file_input = xlrd.open_workbook('market_data.xlsx')     # load market data\n",
    "    except:\n",
    "        print 'Input file is not in the directory!'\n",
    "    break\n",
    "Market_data = file_input.sheet_by_name('Swaptions data')        # file input forward rates"
   ]
  },
  {
   "cell_type": "markdown",
   "id": "481faa0f",
   "metadata": {},
   "source": [
    "## Setting swaptions characteristics"
   ]
  },
  {
   "cell_type": "code",
   "execution_count": 12,
   "id": "394fff0b",
   "metadata": {
    "ExecuteTime": {
     "end_time": "2022-11-18T01:05:14.661853Z",
     "start_time": "2022-11-18T01:05:14.649418Z"
    }
   },
   "outputs": [],
   "source": [
    "strike_spreads=[]\n",
    "j=0\n",
    "while True:\n",
    "    try:\n",
    "        strike_spreads.append(int(Market_data.cell(1,3+j).value))\n",
    "        j = j+1\n",
    "    except:\n",
    "        break\n",
    "num_strikes = len(strike_spreads)\n",
    "\n",
    "expiries=[]\n",
    "i=0\n",
    "while True:\n",
    "        try:\n",
    "            expiries.append(Market_data.cell(2+i,1).value)\n",
    "            i = i + 1\n",
    "        except:\n",
    "            break\n",
    "\n",
    "tenors=[]\n",
    "i=0\n",
    "while True:\n",
    "    try:\n",
    "        tenors.append(Market_data.cell(2+i,0).value)\n",
    "        i = i + 1\n",
    "    except:\n",
    "        break\n",
    "\n",
    "\n",
    "# to create the ATM forward rates\n",
    "F = []\n",
    "i=0\n",
    "while True:\n",
    "    try:\n",
    "        F.append(Market_data.cell(2+i,2).value)\n",
    "        i = i+1\n",
    "    except:\n",
    "        break\n",
    "\n",
    "# to create the strike grid\n",
    "K = numpy.zeros((len(F),num_strikes))\n",
    "for i in range(len(F)):\n",
    "    for j in range(num_strikes):\n",
    "        K[i][j] = F[i] + 0.0001*(strike_spreads[j])  \n",
    "\n",
    "# to create market volatilities            \n",
    "MKT = numpy.zeros((len(F),num_strikes))\n",
    "for i in range(len(F)):\n",
    "    for j in range(num_strikes):\n",
    "        MKT[i][j] = Market_data.cell(2+i,3+j).value\n",
    "\n",
    "\n",
    "# set starting parameters\n",
    "starting_guess = numpy.array([0.001,0.5,0,0.001])\n",
    "alpha = len(F)*[starting_guess[0]]\n",
    "beta = len(F)*[starting_guess[1]]\n",
    "rho = len(F)*[starting_guess[2]]\n",
    "nu = len(F)*[starting_guess[3]]"
   ]
  },
  {
   "cell_type": "markdown",
   "id": "7d3fc59d",
   "metadata": {},
   "source": [
    "## Setting labels"
   ]
  },
  {
   "cell_type": "code",
   "execution_count": 13,
   "id": "adb5c895",
   "metadata": {
    "ExecuteTime": {
     "end_time": "2022-11-18T01:06:03.701013Z",
     "start_time": "2022-11-18T01:06:03.691826Z"
    }
   },
   "outputs": [],
   "source": [
    "exp_dates = len(expiries)*[0]\n",
    "for i in range(len(expiries)):\n",
    "    if expiries[i] < 1:\n",
    "        exp_dates[i] = str(int(round(12*expiries[i])))+'m'\n",
    "    else:\n",
    "        exp_dates[i] = str(int(round(expiries[i])))+'y'\n",
    "        if expiries[i]-round(expiries[i]) > 0:\n",
    "            exp_dates[i] = exp_dates[i]+str(int(round((12*(round(expiries[i],2)-int(expiries[i]))))))+'m' \n",
    "        elif expiries[i]-round(expiries[i]) < 0:\n",
    "            exp_dates[i] = str(int(round(tenors[i]))-1)+'y'\n",
    "            exp_dates[i] = exp_dates[i]+str(int(round((12*(round(expiries[i],2)-int(expiries[i]))))))+'m'\n",
    "\n",
    "ten_dates = len(tenors)*[0]\n",
    "for i in range(len(tenors)):\n",
    "    if tenors[i] < 1:\n",
    "        ten_dates[i] = str(int(round(12*tenors[i])))+'m'\n",
    "    else:\n",
    "        ten_dates[i] = str(int(round(tenors[i])))+'y'\n",
    "        if tenors[i]-round(tenors[i]) > 0:\n",
    "            ten_dates[i] = ten_dates[i]+str(int(round((12*(round(tenors[i],2)-int(tenors[i]))))))+'m' \n",
    "        elif tenors[i]-round(tenors[i]) < 0:\n",
    "            ten_dates[i] = str(int(round(tenors[i]))-1)+'y'\n",
    "            ten_dates[i] = ten_dates[i]+str(int(round((12*(round(tenors[i],2)-int(tenors[i]))))))+'m'\n",
    "\n",
    "label_exp = exp_dates\n",
    "label_ten = ten_dates\n",
    "label_strikes = num_strikes*[0]\n",
    "for i in range(num_strikes):\n",
    "    if strike_spreads[i] == 0 :\n",
    "        label_strikes[i] = 'ATM'\n",
    "    else:\n",
    "        label_strikes[i] = str(strike_spreads[i])"
   ]
  },
  {
   "cell_type": "markdown",
   "id": "c1923a53",
   "metadata": {},
   "source": [
    "## Functions call"
   ]
  },
  {
   "cell_type": "code",
   "execution_count": 14,
   "id": "6f2054c3",
   "metadata": {
    "ExecuteTime": {
     "end_time": "2022-11-18T01:06:32.814416Z",
     "start_time": "2022-11-18T01:06:32.797014Z"
    }
   },
   "outputs": [
    {
     "ename": "NameError",
     "evalue": "name 'SABR_vol_matrix' is not defined",
     "output_type": "error",
     "traceback": [
      "\u001b[0;31m---------------------------------------------------------------------------\u001b[0m",
      "\u001b[0;31mNameError\u001b[0m                                 Traceback (most recent call last)",
      "Input \u001b[0;32mIn [14]\u001b[0m, in \u001b[0;36m<cell line: 3>\u001b[0;34m()\u001b[0m\n\u001b[1;32m      1\u001b[0m calibration(starting_guess,F,K,expiries,MKT)\n\u001b[0;32m----> 3\u001b[0m \u001b[43mSABR_vol_matrix\u001b[49m(alpha,beta,rho,nu,F,K,expiries,MKT)\n",
      "\u001b[0;31mNameError\u001b[0m: name 'SABR_vol_matrix' is not defined"
     ]
    }
   ],
   "source": [
    "calibration(starting_guess,F,K,expiries,MKT)\n",
    "\n",
    "SABR_vol_matrix(alpha,beta,rho,nu,F,K,expiries,MKT)"
   ]
  },
  {
   "cell_type": "markdown",
   "id": "b1650c9d",
   "metadata": {},
   "source": [
    "## Close output files procedure"
   ]
  },
  {
   "cell_type": "code",
   "execution_count": 15,
   "id": "d77889cc",
   "metadata": {
    "ExecuteTime": {
     "end_time": "2022-11-18T01:06:48.905032Z",
     "start_time": "2022-11-18T01:06:48.883413Z"
    }
   },
   "outputs": [
    {
     "ename": "NameError",
     "evalue": "name 'outvol' is not defined",
     "output_type": "error",
     "traceback": [
      "\u001b[0;31m---------------------------------------------------------------------------\u001b[0m",
      "\u001b[0;31mNameError\u001b[0m                                 Traceback (most recent call last)",
      "Input \u001b[0;32mIn [15]\u001b[0m, in \u001b[0;36m<cell line: 1>\u001b[0;34m()\u001b[0m\n\u001b[0;32m----> 1\u001b[0m \u001b[43moutvol\u001b[49m\u001b[38;5;241m.\u001b[39mclose()\n\u001b[1;32m      2\u001b[0m vol_diff\u001b[38;5;241m.\u001b[39mclose()\n\u001b[1;32m      3\u001b[0m parameters\u001b[38;5;241m.\u001b[39mclose()\n",
      "\u001b[0;31mNameError\u001b[0m: name 'outvol' is not defined"
     ]
    }
   ],
   "source": [
    "outvol.close()\n",
    "vol_diff.close()\n",
    "parameters.close()"
   ]
  },
  {
   "cell_type": "markdown",
   "id": "8dea6fcc",
   "metadata": {},
   "source": [
    "---\n",
    "\n",
    "**Amal BACHA - Lucas RODRIGUEZ** - November 2022"
   ]
  }
 ],
 "metadata": {
  "kernelspec": {
   "display_name": "Python 3 (ipykernel)",
   "language": "python",
   "name": "python3"
  },
  "language_info": {
   "codemirror_mode": {
    "name": "ipython",
    "version": 3
   },
   "file_extension": ".py",
   "mimetype": "text/x-python",
   "name": "python",
   "nbconvert_exporter": "python",
   "pygments_lexer": "ipython3",
   "version": "3.10.6"
  },
  "toc": {
   "base_numbering": 1,
   "nav_menu": {},
   "number_sections": true,
   "sideBar": true,
   "skip_h1_title": false,
   "title_cell": "Table of Contents",
   "title_sidebar": "Contents",
   "toc_cell": false,
   "toc_position": {},
   "toc_section_display": true,
   "toc_window_display": false
  }
 },
 "nbformat": 4,
 "nbformat_minor": 5
}
